{
 "cells": [
  {
   "cell_type": "code",
   "execution_count": 11,
   "id": "1b751d04",
   "metadata": {},
   "outputs": [],
   "source": [
    "def minimum(ar):\n",
    "    min_value = ar[0]\n",
    "    max_value = ar[0]\n",
    "    for i in range(0,len(ar)):\n",
    "        if min_value>=ar[i]:\n",
    "            min_value = ar[i]\n",
    "        if max_value<=ar[i]:\n",
    "            max_value = ar[i]\n",
    "    return {'minimum':min_value,'maximum':max_value}"
   ]
  },
  {
   "cell_type": "code",
   "execution_count": 12,
   "id": "d4a6c360",
   "metadata": {},
   "outputs": [
    {
     "data": {
      "text/plain": [
       "{'minimum': 27, 'maximum': 913}"
      ]
     },
     "execution_count": 12,
     "metadata": {},
     "output_type": "execute_result"
    }
   ],
   "source": [
    "minimum([913,482,478,27,81,39])"
   ]
  },
  {
   "cell_type": "code",
   "execution_count": 14,
   "id": "891229e2",
   "metadata": {},
   "outputs": [],
   "source": [
    "def counter_list(ar):\n",
    "    output_dict = {}\n",
    "    for i in ar:\n",
    "        if i not in output_dict.keys():\n",
    "            output_dict[i]= 0\n",
    "        output_dict[i]+=1\n",
    "    return output_dict"
   ]
  },
  {
   "cell_type": "code",
   "execution_count": 16,
   "id": "4fb94ec2",
   "metadata": {},
   "outputs": [
    {
     "data": {
      "text/plain": [
       "{1: 2, 3: 2, 2: 2, 8: 4, 0: 1}"
      ]
     },
     "execution_count": 16,
     "metadata": {},
     "output_type": "execute_result"
    }
   ],
   "source": [
    "counter_list([1,3,3,2,8,8,8,8,2,1,0])"
   ]
  },
  {
   "cell_type": "code",
   "execution_count": 17,
   "id": "4bc28e31",
   "metadata": {},
   "outputs": [],
   "source": [
    "def factorial(n):\n",
    "    if n<=1:\n",
    "        return 1\n",
    "    else:\n",
    "        return factorial(n-1)*n"
   ]
  },
  {
   "cell_type": "code",
   "execution_count": 21,
   "id": "8abb628d",
   "metadata": {},
   "outputs": [
    {
     "name": "stdout",
     "output_type": "stream",
     "text": [
      "1  1  2  6  24  120  720  5040  40320  362880  "
     ]
    }
   ],
   "source": [
    "for i in range(10):\n",
    "    print(factorial(i),end='  ')"
   ]
  },
  {
   "cell_type": "code",
   "execution_count": 22,
   "id": "445c60ae",
   "metadata": {},
   "outputs": [],
   "source": [
    "# recursive implementation of fibanocci series \n",
    "def fibanocci_recursion(n):\n",
    "    if n==0:\n",
    "        return 0 \n",
    "    elif n==1:\n",
    "        return 1 \n",
    "    else:\n",
    "        return fibanocci_recursion(n-1)+fibanocci_recursion(n-2)"
   ]
  },
  {
   "cell_type": "code",
   "execution_count": 25,
   "id": "1820f1e4",
   "metadata": {},
   "outputs": [
    {
     "name": "stdout",
     "output_type": "stream",
     "text": [
      "0  1  1  2  3  5  8  13  21  34  "
     ]
    }
   ],
   "source": [
    "# testing the series \n",
    "for j in range(10):\n",
    "    print(fibanocci_recursion(j),end = '  ')"
   ]
  },
  {
   "cell_type": "code",
   "execution_count": 26,
   "id": "ee119304",
   "metadata": {},
   "outputs": [],
   "source": [
    "def fibanocci_while(n):\n",
    "    if n==0:\n",
    "        return 0 \n",
    "    elif n==1:\n",
    "        return 1 \n",
    "    else:\n",
    "        a,b = 0,1\n",
    "        i = 0\n",
    "        while i< n-1:\n",
    "            next_value = a+b \n",
    "            a,b = b,next_value\n",
    "            i+=1 \n",
    "        return b"
   ]
  },
  {
   "cell_type": "code",
   "execution_count": 27,
   "id": "1aadf791",
   "metadata": {},
   "outputs": [
    {
     "name": "stdout",
     "output_type": "stream",
     "text": [
      "0  1  1  2  3  5  8  13  21  34  "
     ]
    }
   ],
   "source": [
    "for j in range(10):\n",
    "    print(fibanocci_while(j),end = '  ')"
   ]
  },
  {
   "cell_type": "code",
   "execution_count": 36,
   "id": "7e5db7f2",
   "metadata": {},
   "outputs": [],
   "source": [
    "def prime(value):\n",
    "    prime = True\n",
    "    check_list = list(range(2,value//2+1))\n",
    "    print(check_list)\n",
    "    for i in check_list:\n",
    "        if value%i==0:\n",
    "            prime = False\n",
    "            break\n",
    "    return prime"
   ]
  },
  {
   "cell_type": "code",
   "execution_count": 37,
   "id": "cac90f35",
   "metadata": {},
   "outputs": [],
   "source": [
    "def isprime(n):\n",
    "    prime = True\n",
    "    if n>1:\n",
    "        half_numbers = range(2,int(n/2)+1)\n",
    "        for i in half_numbers:\n",
    "            if n%i ==0:\n",
    "                prime = False\n",
    "                break\n",
    "        return prime\n",
    "    else:\n",
    "        return False"
   ]
  },
  {
   "cell_type": "code",
   "execution_count": 38,
   "id": "4c0f6c2d",
   "metadata": {},
   "outputs": [
    {
     "name": "stdout",
     "output_type": "stream",
     "text": [
      "first 100 prime numbers ... \n",
      "2,3,5,7,11,13,17,19,23,29,31,37,41,43,47,\n",
      "\n"
     ]
    }
   ],
   "source": [
    "print('first 100 prime numbers ... ')\n",
    "for i in range(1,50):\n",
    "    if isprime(i):\n",
    "        print(i,end=',')\n",
    "print('\\n') "
   ]
  },
  {
   "cell_type": "code",
   "execution_count": 39,
   "id": "d5d4cf01",
   "metadata": {},
   "outputs": [],
   "source": [
    "def is_prime(n, i):\n",
    "    if n <= 1:\n",
    "        return False\n",
    "    if i == 1:\n",
    "        return True\n",
    "    if n % i == 0:\n",
    "        return False\n",
    "    return is_prime(n, i - 1)"
   ]
  },
  {
   "cell_type": "code",
   "execution_count": 40,
   "id": "f42ace07",
   "metadata": {},
   "outputs": [
    {
     "name": "stdout",
     "output_type": "stream",
     "text": [
      "2,3,5,7,11,13,17,19,23,29,31,37,41,43,47,"
     ]
    }
   ],
   "source": [
    "for i in range(0,50):\n",
    "    if is_prime(i,i-1):\n",
    "        print(i,end=',')"
   ]
  },
  {
   "cell_type": "code",
   "execution_count": 41,
   "id": "824eabb9",
   "metadata": {},
   "outputs": [],
   "source": [
    "# reversing an array using pointers \n",
    "def reverse(ar):\n",
    "    i = 0 \n",
    "    j = len(ar)-1\n",
    "    while i<=len(ar)//2:\n",
    "        ar[i],ar[j] = ar[j],ar[i]\n",
    "        i+=1\n",
    "        j+=1\n",
    "    return ar \n"
   ]
  },
  {
   "cell_type": "code",
   "execution_count": 42,
   "id": "8b05f3cf",
   "metadata": {},
   "outputs": [],
   "source": [
    "# reversing an array based on recursion \n",
    "def reverse_recur(ar):\n",
    "    if len(ar)<=1:\n",
    "        return ar \n",
    "    else:\n",
    "        return reverse_recur(ar[1:])+reverse_recur(ar[:1])\n"
   ]
  },
  {
   "cell_type": "code",
   "execution_count": 43,
   "id": "5bed3323",
   "metadata": {},
   "outputs": [],
   "source": [
    "# rotating an array forward by one step \n",
    "def rotate_forward(ar):\n",
    "    for i in range(len(ar)-1):\n",
    "        ar[0],ar[i+1] = ar[i+1],ar[0]\n",
    "    return ar"
   ]
  },
  {
   "cell_type": "code",
   "execution_count": 44,
   "id": "374e10ba",
   "metadata": {},
   "outputs": [],
   "source": [
    "# rotating an array backward by one step \n",
    "def rotate_backwards(ar):\n",
    "    j = len(ar)-1\n",
    "    i = len(ar)-2\n",
    "    while i>=0:\n",
    "        ar[i],ar[j] = ar[j],ar[i]\n",
    "        i -=1\n",
    "    return ar"
   ]
  },
  {
   "cell_type": "code",
   "execution_count": 45,
   "id": "9f9a3215",
   "metadata": {},
   "outputs": [
    {
     "name": "stdout",
     "output_type": "stream",
     "text": [
      "[73, 3812, 2, 8, 22, 3, 1, 2, 49]\n"
     ]
    }
   ],
   "source": [
    "\n",
    "# testing \n",
    "input_ar = [3812,2,8,22,3,1,2,49,73]\n",
    "output  = rotate_forward(input_ar)\n",
    "print(output)"
   ]
  },
  {
   "cell_type": "code",
   "execution_count": null,
   "id": "166c29c3",
   "metadata": {},
   "outputs": [],
   "source": []
  }
 ],
 "metadata": {
  "kernelspec": {
   "display_name": "Python 3 (ipykernel)",
   "language": "python",
   "name": "python3"
  },
  "language_info": {
   "codemirror_mode": {
    "name": "ipython",
    "version": 3
   },
   "file_extension": ".py",
   "mimetype": "text/x-python",
   "name": "python",
   "nbconvert_exporter": "python",
   "pygments_lexer": "ipython3",
   "version": "3.11.5"
  }
 },
 "nbformat": 4,
 "nbformat_minor": 5
}
